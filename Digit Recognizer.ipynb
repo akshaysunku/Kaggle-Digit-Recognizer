{
 "cells": [
  {
   "cell_type": "code",
   "execution_count": 1,
   "metadata": {
    "_cell_guid": "b1076dfc-b9ad-4769-8c92-a6c4dae69d19",
    "_uuid": "8f2839f25d086af736a60e9eeb907d3b93b6e0e5"
   },
   "outputs": [
    {
     "name": "stderr",
     "output_type": "stream",
     "text": [
      "Using TensorFlow backend.\n"
     ]
    }
   ],
   "source": [
    "import pandas as pd\n",
    "import numpy as np\n",
    "import keras \n",
    "from keras import models\n",
    "from keras import layers\n",
    "from keras import optimizers\n",
    "from keras.preprocessing.image import ImageDataGenerator\n",
    "from keras.layers.normalization import BatchNormalization\n",
    "from keras.utils import to_categorical\n",
    "from sklearn.model_selection import train_test_split"
   ]
  },
  {
   "cell_type": "code",
   "execution_count": 2,
   "metadata": {
    "_cell_guid": "79c7e3d0-c299-4dcb-8224-4455121ee9b0",
    "_uuid": "d629ff2d2480ee46fbb7e2d37f6b5fab8052498a"
   },
   "outputs": [],
   "source": [
    "train_data = pd.read_csv('../input/train.csv')\n",
    "test_data = pd.read_csv('../input/test.csv')"
   ]
  },
  {
   "cell_type": "code",
   "execution_count": 3,
   "metadata": {},
   "outputs": [
    {
     "data": {
      "text/plain": [
       "False"
      ]
     },
     "execution_count": 3,
     "metadata": {},
     "output_type": "execute_result"
    }
   ],
   "source": [
    "train_data.isnull().sum().any()"
   ]
  },
  {
   "cell_type": "code",
   "execution_count": 4,
   "metadata": {},
   "outputs": [
    {
     "data": {
      "text/plain": [
       "False"
      ]
     },
     "execution_count": 4,
     "metadata": {},
     "output_type": "execute_result"
    }
   ],
   "source": [
    "test_data.isnull().sum().any()"
   ]
  },
  {
   "cell_type": "code",
   "execution_count": 5,
   "metadata": {},
   "outputs": [],
   "source": [
    "labels = train_data['label']\n",
    "train = train_data.drop('label', axis = 1)"
   ]
  },
  {
   "cell_type": "code",
   "execution_count": 6,
   "metadata": {},
   "outputs": [],
   "source": [
    "train = train.values.reshape(-1, 28, 28, 1).astype('float32') / 255\n",
    "test_data = test_data.values.reshape(-1, 28, 28, 1).astype('float32') / 255\n",
    "\n",
    "labels = to_categorical(labels)"
   ]
  },
  {
   "cell_type": "code",
   "execution_count": 7,
   "metadata": {},
   "outputs": [],
   "source": [
    "X_train, X_test, Y_train, Y_test = train_test_split(train, labels, test_size = 0.2, random_state = 0)"
   ]
  },
  {
   "cell_type": "code",
   "execution_count": 8,
   "metadata": {},
   "outputs": [],
   "source": [
    "model = models.Sequential()\n",
    "model.add(layers.Conv2D(32, (3,3), activation='relu', input_shape=(28, 28, 1)))\n",
    "model.add(layers.MaxPooling2D((2,2)))\n",
    "model.add(layers.Dropout(0.20))\n",
    "model.add(layers.Conv2D(64, (3,3), activation='relu'))\n",
    "model.add(layers.MaxPooling2D((2,2)))\n",
    "model.add(layers.Dropout(0.20))\n",
    "model.add(layers.Conv2D(64, (3,3), activation='relu'))\n",
    "\n",
    "model.add(layers.Flatten())\n",
    "model.add(layers.Dense(64, activation='relu'))\n",
    "model.add(layers.Dense(10, activation='softmax'))\n",
    "\n",
    "model.compile(optimizer='rmsprop', loss='categorical_crossentropy', metrics=['accuracy'])"
   ]
  },
  {
   "cell_type": "code",
   "execution_count": 9,
   "metadata": {},
   "outputs": [],
   "source": [
    "datagen = ImageDataGenerator(\n",
    "        rotation_range=10,  \n",
    "        zoom_range = 0.10,  \n",
    "        width_shift_range=0.1, \n",
    "        height_shift_range=0.1)"
   ]
  },
  {
   "cell_type": "code",
   "execution_count": 10,
   "metadata": {},
   "outputs": [
    {
     "name": "stdout",
     "output_type": "stream",
     "text": [
      "_________________________________________________________________\n",
      "Layer (type)                 Output Shape              Param #   \n",
      "=================================================================\n",
      "conv2d_1 (Conv2D)            (None, 26, 26, 32)        320       \n",
      "_________________________________________________________________\n",
      "max_pooling2d_1 (MaxPooling2 (None, 13, 13, 32)        0         \n",
      "_________________________________________________________________\n",
      "dropout_1 (Dropout)          (None, 13, 13, 32)        0         \n",
      "_________________________________________________________________\n",
      "conv2d_2 (Conv2D)            (None, 11, 11, 64)        18496     \n",
      "_________________________________________________________________\n",
      "max_pooling2d_2 (MaxPooling2 (None, 5, 5, 64)          0         \n",
      "_________________________________________________________________\n",
      "dropout_2 (Dropout)          (None, 5, 5, 64)          0         \n",
      "_________________________________________________________________\n",
      "conv2d_3 (Conv2D)            (None, 3, 3, 64)          36928     \n",
      "_________________________________________________________________\n",
      "flatten_1 (Flatten)          (None, 576)               0         \n",
      "_________________________________________________________________\n",
      "dense_1 (Dense)              (None, 64)                36928     \n",
      "_________________________________________________________________\n",
      "dense_2 (Dense)              (None, 10)                650       \n",
      "=================================================================\n",
      "Total params: 93,322\n",
      "Trainable params: 93,322\n",
      "Non-trainable params: 0\n",
      "_________________________________________________________________\n"
     ]
    }
   ],
   "source": [
    "model.summary()"
   ]
  },
  {
   "cell_type": "code",
   "execution_count": 11,
   "metadata": {},
   "outputs": [
    {
     "name": "stdout",
     "output_type": "stream",
     "text": [
      "Epoch 1/20\n",
      "525/525 [==============================] - 23s 44ms/step - loss: 0.5676 - acc: 0.8123 - val_loss: 0.1039 - val_acc: 0.9688\n",
      "Epoch 2/20\n",
      "525/525 [==============================] - 23s 43ms/step - loss: 0.1743 - acc: 0.9465 - val_loss: 0.0573 - val_acc: 0.9806\n",
      "Epoch 3/20\n",
      "525/525 [==============================] - 22s 42ms/step - loss: 0.1230 - acc: 0.9616 - val_loss: 0.0493 - val_acc: 0.9835\n",
      "Epoch 4/20\n",
      "525/525 [==============================] - 22s 43ms/step - loss: 0.0972 - acc: 0.9699 - val_loss: 0.0564 - val_acc: 0.9825\n",
      "Epoch 5/20\n",
      "525/525 [==============================] - 23s 44ms/step - loss: 0.0827 - acc: 0.9743 - val_loss: 0.0363 - val_acc: 0.9875\n",
      "Epoch 6/20\n",
      "525/525 [==============================] - 23s 43ms/step - loss: 0.0740 - acc: 0.9764 - val_loss: 0.0351 - val_acc: 0.9893\n",
      "Epoch 7/20\n",
      "525/525 [==============================] - 22s 42ms/step - loss: 0.0682 - acc: 0.9790 - val_loss: 0.0298 - val_acc: 0.9899\n",
      "Epoch 8/20\n",
      "525/525 [==============================] - 22s 43ms/step - loss: 0.0614 - acc: 0.9814 - val_loss: 0.0300 - val_acc: 0.9906\n",
      "Epoch 9/20\n",
      "525/525 [==============================] - 23s 43ms/step - loss: 0.0563 - acc: 0.9828 - val_loss: 0.0276 - val_acc: 0.9917\n",
      "Epoch 10/20\n",
      "525/525 [==============================] - 22s 42ms/step - loss: 0.0584 - acc: 0.9821 - val_loss: 0.0374 - val_acc: 0.9881\n",
      "Epoch 11/20\n",
      "525/525 [==============================] - 22s 42ms/step - loss: 0.0569 - acc: 0.9830 - val_loss: 0.0291 - val_acc: 0.9920\n",
      "Epoch 12/20\n",
      "525/525 [==============================] - 22s 41ms/step - loss: 0.0536 - acc: 0.9843 - val_loss: 0.0296 - val_acc: 0.9913\n",
      "Epoch 13/20\n",
      "525/525 [==============================] - 22s 41ms/step - loss: 0.0483 - acc: 0.9850 - val_loss: 0.0252 - val_acc: 0.9930\n",
      "Epoch 14/20\n",
      "525/525 [==============================] - 22s 41ms/step - loss: 0.0488 - acc: 0.9850 - val_loss: 0.0273 - val_acc: 0.9913\n",
      "Epoch 15/20\n",
      "525/525 [==============================] - 22s 41ms/step - loss: 0.0456 - acc: 0.9859 - val_loss: 0.0280 - val_acc: 0.9920\n",
      "Epoch 16/20\n",
      "525/525 [==============================] - 22s 42ms/step - loss: 0.0462 - acc: 0.9857 - val_loss: 0.0241 - val_acc: 0.9927\n",
      "Epoch 17/20\n",
      "525/525 [==============================] - 22s 41ms/step - loss: 0.0462 - acc: 0.9862 - val_loss: 0.0206 - val_acc: 0.9938\n",
      "Epoch 18/20\n",
      "525/525 [==============================] - 22s 42ms/step - loss: 0.0418 - acc: 0.9867 - val_loss: 0.0213 - val_acc: 0.9940\n",
      "Epoch 19/20\n",
      "525/525 [==============================] - 22s 41ms/step - loss: 0.0425 - acc: 0.9880 - val_loss: 0.0263 - val_acc: 0.9919\n",
      "Epoch 20/20\n",
      "525/525 [==============================] - 22s 42ms/step - loss: 0.0446 - acc: 0.9859 - val_loss: 0.0227 - val_acc: 0.9940\n"
     ]
    },
    {
     "data": {
      "text/plain": [
       "<keras.callbacks.History at 0x7f54ae4e19b0>"
      ]
     },
     "execution_count": 11,
     "metadata": {},
     "output_type": "execute_result"
    }
   ],
   "source": [
    "datagen.fit(X_train)\n",
    "model.fit_generator(datagen.flow(X_train,Y_train, batch_size=64), epochs = 20, validation_data = (X_test, Y_test),\n",
    "                              verbose = 1, steps_per_epoch=X_train.shape[0] // 64)"
   ]
  },
  {
   "cell_type": "code",
   "execution_count": 12,
   "metadata": {},
   "outputs": [],
   "source": [
    "# model.fit(X_train, Y_train, epochs=10, batch_size=32, validation_data=(X_test, Y_test))"
   ]
  },
  {
   "cell_type": "code",
   "execution_count": 13,
   "metadata": {},
   "outputs": [],
   "source": [
    "final_model = models.Sequential()\n",
    "final_model.add(layers.Conv2D(32, (3,3), activation='relu', input_shape=(28, 28, 1)))\n",
    "final_model.add(layers.MaxPooling2D((2,2)))\n",
    "final_model.add(layers.Dropout(0.20))\n",
    "final_model.add(layers.Conv2D(64, (3,3), activation='relu'))\n",
    "final_model.add(layers.MaxPooling2D((2,2)))\n",
    "final_model.add(layers.Dropout(0.20))\n",
    "final_model.add(layers.Conv2D(64, (3,3), activation='relu'))\n",
    "\n",
    "final_model.add(layers.Flatten())\n",
    "final_model.add(layers.Dense(64, activation='relu'))\n",
    "final_model.add(layers.Dense(10, activation='softmax'))\n",
    "\n",
    "final_model.compile(optimizer='rmsprop', loss='categorical_crossentropy', metrics=['accuracy'])"
   ]
  },
  {
   "cell_type": "code",
   "execution_count": 14,
   "metadata": {},
   "outputs": [],
   "source": [
    "final_datagen = ImageDataGenerator(\n",
    "        rotation_range=10,  \n",
    "        zoom_range = 0.10,  \n",
    "        width_shift_range=0.1, \n",
    "        height_shift_range=0.1)"
   ]
  },
  {
   "cell_type": "code",
   "execution_count": 15,
   "metadata": {},
   "outputs": [
    {
     "name": "stdout",
     "output_type": "stream",
     "text": [
      "Epoch 1/20\n",
      "525/525 [==============================] - 22s 41ms/step - loss: 0.5747 - acc: 0.8122\n",
      "Epoch 2/20\n",
      "525/525 [==============================] - 21s 41ms/step - loss: 0.1780 - acc: 0.9454\n",
      "Epoch 3/20\n",
      "525/525 [==============================] - 22s 41ms/step - loss: 0.1197 - acc: 0.9624\n",
      "Epoch 4/20\n",
      "525/525 [==============================] - 21s 40ms/step - loss: 0.0983 - acc: 0.9690\n",
      "Epoch 5/20\n",
      "525/525 [==============================] - 21s 41ms/step - loss: 0.0824 - acc: 0.9742\n",
      "Epoch 6/20\n",
      "525/525 [==============================] - 21s 40ms/step - loss: 0.0740 - acc: 0.9773\n",
      "Epoch 7/20\n",
      "525/525 [==============================] - 21s 40ms/step - loss: 0.0690 - acc: 0.9790\n",
      "Epoch 8/20\n",
      "525/525 [==============================] - 21s 40ms/step - loss: 0.0639 - acc: 0.9806\n",
      "Epoch 9/20\n",
      "525/525 [==============================] - 21s 40ms/step - loss: 0.0616 - acc: 0.9810\n",
      "Epoch 10/20\n",
      "525/525 [==============================] - 21s 41ms/step - loss: 0.0571 - acc: 0.9826\n",
      "Epoch 11/20\n",
      "525/525 [==============================] - 21s 40ms/step - loss: 0.0527 - acc: 0.9836\n",
      "Epoch 12/20\n",
      "525/525 [==============================] - 21s 40ms/step - loss: 0.0498 - acc: 0.9847\n",
      "Epoch 13/20\n",
      "525/525 [==============================] - 21s 40ms/step - loss: 0.0497 - acc: 0.9850\n",
      "Epoch 14/20\n",
      "525/525 [==============================] - 21s 41ms/step - loss: 0.0482 - acc: 0.9852\n",
      "Epoch 15/20\n",
      "525/525 [==============================] - 22s 42ms/step - loss: 0.0458 - acc: 0.9856\n",
      "Epoch 16/20\n",
      "525/525 [==============================] - 21s 40ms/step - loss: 0.0456 - acc: 0.9863\n",
      "Epoch 17/20\n",
      "525/525 [==============================] - 22s 41ms/step - loss: 0.0462 - acc: 0.9860\n",
      "Epoch 18/20\n",
      "525/525 [==============================] - 21s 41ms/step - loss: 0.0453 - acc: 0.9861\n",
      "Epoch 19/20\n",
      "525/525 [==============================] - 22s 41ms/step - loss: 0.0465 - acc: 0.9858\n",
      "Epoch 20/20\n",
      "525/525 [==============================] - 21s 41ms/step - loss: 0.0432 - acc: 0.9868\n"
     ]
    },
    {
     "data": {
      "text/plain": [
       "<keras.callbacks.History at 0x7f54acc6f7b8>"
      ]
     },
     "execution_count": 15,
     "metadata": {},
     "output_type": "execute_result"
    }
   ],
   "source": [
    "final_datagen.fit(train)\n",
    "final_model.fit_generator(final_datagen.flow(train, labels, batch_size=64), epochs = 20, verbose = 1, steps_per_epoch=X_train.shape[0] // 64)"
   ]
  },
  {
   "cell_type": "code",
   "execution_count": 16,
   "metadata": {},
   "outputs": [],
   "source": [
    "# final_model.fit(train, labels, epochs=10, batch_size=32)"
   ]
  },
  {
   "cell_type": "code",
   "execution_count": 17,
   "metadata": {},
   "outputs": [],
   "source": [
    "results = final_model.predict(test_data)"
   ]
  },
  {
   "cell_type": "code",
   "execution_count": 18,
   "metadata": {},
   "outputs": [],
   "source": [
    "results = np.argmax(results, axis = 1)\n",
    "results = pd.Series(results,name=\"Label\")"
   ]
  },
  {
   "cell_type": "code",
   "execution_count": 19,
   "metadata": {},
   "outputs": [],
   "source": [
    "output = pd.concat([pd.Series(range(1,28001),name = \"ImageId\"),results],axis = 1)\n",
    "\n",
    "output.to_csv(\"submission.csv\",index=False)"
   ]
  }
 ],
 "metadata": {
  "kernelspec": {
   "display_name": "Python 3",
   "language": "python",
   "name": "python3"
  },
  "language_info": {
   "codemirror_mode": {
    "name": "ipython",
    "version": 3
   },
   "file_extension": ".py",
   "mimetype": "text/x-python",
   "name": "python",
   "nbconvert_exporter": "python",
   "pygments_lexer": "ipython3",
   "version": "3.7.0"
  }
 },
 "nbformat": 4,
 "nbformat_minor": 1
}
